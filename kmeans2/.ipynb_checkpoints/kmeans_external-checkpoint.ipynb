{
 "cells": [
  {
   "cell_type": "code",
   "execution_count": 23,
   "metadata": {},
   "outputs": [],
   "source": [
    "import numpy as np\n",
    "import pandas as pd\n",
    "from PIL import Image, ImageDraw\n",
    "import random\n",
    "import matplotlib.pyplot as plt\n",
    "from sklearn.metrics import davies_bouldin_score as dbs, calinski_harabaz_score as chs\n",
    "from scipy.spatial.distance import cdist, sqeuclidean, euclidean"
   ]
  },
  {
   "cell_type": "code",
   "execution_count": 24,
   "metadata": {},
   "outputs": [],
   "source": [
    "def kmeans(data, k, n_iter):\n",
    "    centrs = np.random.choice(np.arange(len(data)), k, False)\n",
    "    centrs = data[centrs]\n",
    "    flag = True\n",
    "\n",
    "        \n",
    "    for i in range(n_iter):\n",
    "        if not flag:\n",
    "            break\n",
    "        flag = False\n",
    "        \n",
    "        dist_ar = cdist(centrs, data, 'sqeuclidean')\n",
    "        clusts = np.argmin(dist_ar, axis=0)        \n",
    "                    \n",
    "        for w in range(k):\n",
    "            tmp = data[clusts == w]\n",
    "            if len(tmp) == 0:\n",
    "                new = np.array([0] * len(data[0]))\n",
    "            else:    \n",
    "                new = np.mean(tmp, axis=0)\n",
    "            if not np.array_equal(centrs[w], new):\n",
    "                flag = True\n",
    "                centrs[w] = new\n",
    "    \n",
    "    return centrs, clusts"
   ]
  },
  {
   "cell_type": "code",
   "execution_count": 37,
   "metadata": {},
   "outputs": [],
   "source": [
    "def indexes(y_true, y_my, n):               \n",
    "    tp, tn, fp, fn = 0, 0, 0, 0\n",
    "    for i in range(n):\n",
    "        for j in range(i + 1, n):\n",
    "            if y_true[i] == y_true[j]:\n",
    "                if y_my[i] == y_my[j]:\n",
    "                    tp += 1\n",
    "                else:\n",
    "                    fp += 1\n",
    "            else:\n",
    "                if y_my[i] != y_my[j]:\n",
    "                    tn += 1\n",
    "                else:\n",
    "                    fn += 1\n",
    "    \n",
    "    rand = (tp + tn) / (n * (n - 1) // 2)\n",
    "    fm = ((tp ** 2) / (tp + fn) / (tp + fp)) ** 0.5\n",
    "    return [rand, fm]\n",
    "                \n",
    "                \n",
    "    "
   ]
  },
  {
   "cell_type": "code",
   "execution_count": 38,
   "metadata": {},
   "outputs": [],
   "source": [
    "data = pd.read_csv('data/task_2_data_7.txt', delimiter=' ', header=None, names=['y', 'a', 'b'])\n",
    "data.y = data.y - 1\n",
    "data = data.sample(frac=1).reset_index(drop=True)\n",
    "data = np.array(data)\n"
   ]
  },
  {
   "cell_type": "code",
   "execution_count": 44,
   "metadata": {},
   "outputs": [
    {
     "name": "stdout",
     "output_type": "stream",
     "text": [
      "RAND index max at 4 | Val = 0.9941141141141141\n"
     ]
    },
    {
     "data": {
      "image/png": "[encoded data removed]",
      "text/plain": [
       "<Figure size 432x288 with 1 Axes>"
      ]
     },
     "metadata": {
      "needs_background": "light"
     },
     "output_type": "display_data"
    },
    {
     "name": "stdout",
     "output_type": "stream",
     "text": [
      "FM index max at 4 | Val = 0.9882256824298348\n"
     ]
    },
    {
     "data": {
      "image/png": "[encoded data removed]",
      "text/plain": [
       "<Figure size 432x288 with 1 Axes>"
      ]
     },
     "metadata": {
      "needs_background": "light"
     },
     "output_type": "display_data"
    }
   ],
   "source": [
    "ar = data[:,[1, 2]]\n",
    "y_true = data[:,0]\n",
    "max_k = 20\n",
    "\n",
    "n = ar.shape[0]\n",
    "res = []\n",
    "\n",
    "for k in range(2, max_k):\n",
    "    best_centrs, best_clusts = [], []\n",
    "    best_func = 10**10\n",
    "    for i in range(5):\n",
    "        centrs, clusts = kmeans(data, k, 200)\n",
    "        func = cdist(centrs, centrs, 'sqeuclidean').max()\n",
    "        if func < best_func:\n",
    "            best_func = func\n",
    "            best_centrs, best_clusts = centrs, clusts\n",
    "    res.append(indexes(y_true, best_clusts, n))\n",
    "\n",
    "res = np.array(res)\n",
    "x = list(range(2, max_k))\n",
    "print('RAND index max at', x[np.argmax(res[:, 0])], '| Val =', np.max(res[:, 0]))\n",
    "plt.plot(x, res[:, 0])\n",
    "plt.savefig('rand_index.png', dpi = 600)\n",
    "plt.show()\n",
    "print('FM index max at', x[np.argmax(res[:, 1])], '| Val =', np.max(res[:, 1]))\n",
    "plt.plot(x, res[:, 1])\n",
    "plt.savefig('fm_index.png', dpi = 600)\n",
    "plt.show()\n",
    "                    "
   ]
  },
  {
   "cell_type": "code",
   "execution_count": null,
   "metadata": {},
   "outputs": [],
   "source": []
  }
 ],
 "metadata": {
  "kernelspec": {
   "display_name": "Python 3",
   "language": "python",
   "name": "python3"
  },
  "language_info": {
   "codemirror_mode": {
    "name": "ipython",
    "version": 3
   },
   "file_extension": ".py",
   "mimetype": "text/x-python",
   "name": "python",
   "nbconvert_exporter": "python",
   "pygments_lexer": "ipython3",
   "version": "3.7.1"
  }
 },
 "nbformat": 4,
 "nbformat_minor": 2
}
