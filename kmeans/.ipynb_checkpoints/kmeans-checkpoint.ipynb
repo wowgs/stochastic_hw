{
 "cells": [
  {
   "cell_type": "code",
   "execution_count": 4,
   "metadata": {},
   "outputs": [],
   "source": [
    "import numpy as np\n",
    "import pandas as pd\n",
    "from PIL import Image, ImageDraw\n",
    "import random\n",
    "from scipy.spatial.distance import cdist"
   ]
  },
  {
   "cell_type": "code",
   "execution_count": 5,
   "metadata": {},
   "outputs": [],
   "source": [
    "def kmeans(data, k, n_iter):\n",
    "    centrs = np.random.choice(np.arange(len(data)), k, False)\n",
    "    centrs = data[centrs]\n",
    "    flag = True\n",
    "\n",
    "        \n",
    "    for i in range(n_iter):\n",
    "        if not flag:\n",
    "            break\n",
    "        flag = False\n",
    "        \n",
    "        dist_ar = cdist(centrs, data, 'sqeuclidean')\n",
    "        clusts = np.argmin(dist_ar, axis=0)        \n",
    "                    \n",
    "        for w in range(k):\n",
    "            tmp = data[clusts == w]\n",
    "            if len(tmp) == 0:\n",
    "                new = np.array([0] * len(data[0]))\n",
    "            else:    \n",
    "                new = np.mean(tmp, axis=0)\n",
    "            if not np.array_equal(centrs[w], new):\n",
    "                flag = True\n",
    "                centrs[w] = new\n",
    "    \n",
    "    return centrs, clusts\n",
    "                \n",
    "    "
   ]
  },
  {
   "cell_type": "code",
   "execution_count": null,
   "metadata": {},
   "outputs": [],
   "source": [
    "import os\n",
    "dirs = ['res/', 'res/lena/', 'res/grain/', 'res/peppers/']\n",
    "for x in dirs:\n",
    "    if not os.path.exists(x):\n",
    "        os.makedirs(x)\n",
    "for x in ['grain.jpg', 'lena.jpg', 'peppers.jpg']:\n",
    "    name = 'data/' + x\n",
    "    image = np.array(Image.open(name))\n",
    "    data = image.reshape((image.shape[0] * image.shape[1], image.shape[2]))\n",
    "    for k in [2, 3, 4, 5, 20]:\n",
    "        best_centrs, best_clusts = [], []\n",
    "        best_func = 10**10\n",
    "        for i in range(5):\n",
    "            centrs, clusts = kmeans(data, k, 200)\n",
    "            func = cdist(centrs, centrs, 'sqeuclidean').max()\n",
    "            if func < best_func:\n",
    "                best_func = func\n",
    "                best_centrs, best_clusts = centrs, clusts\n",
    "        new_data = best_centrs[best_clusts]\n",
    "        new_data.shape = image.shape\n",
    "        Image.fromarray(new_data).save('res/' + x[:-4] + '/' + str(k) + '.jpg')"
   ]
  },
  {
   "cell_type": "code",
   "execution_count": null,
   "metadata": {},
   "outputs": [],
   "source": []
  },
  {
   "cell_type": "code",
   "execution_count": null,
   "metadata": {},
   "outputs": [],
   "source": []
  },
  {
   "cell_type": "code",
   "execution_count": null,
   "metadata": {},
   "outputs": [],
   "source": []
  }
 ],
 "metadata": {
  "kernelspec": {
   "display_name": "Python 3",
   "language": "python",
   "name": "python3"
  },
  "language_info": {
   "codemirror_mode": {
    "name": "ipython",
    "version": 3
   },
   "file_extension": ".py",
   "mimetype": "text/x-python",
   "name": "python",
   "nbconvert_exporter": "python",
   "pygments_lexer": "ipython3",
   "version": "3.7.1"
  }
 },
 "nbformat": 4,
 "nbformat_minor": 2
}
